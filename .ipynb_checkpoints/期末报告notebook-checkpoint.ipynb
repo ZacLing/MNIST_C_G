{
 "cells": [
  {
   "cell_type": "markdown",
   "id": "43c32520",
   "metadata": {},
   "source": [
    "# 探究多种ML方法在MNIST数据集上的分类和生成"
   ]
  },
  {
   "cell_type": "markdown",
   "id": "74de771e",
   "metadata": {},
   "source": [
    "## 1 摘要\n",
    "本实验报告旨在探究多种ML方法在手写数字数据集（MNIST）上的分类识别和生成的效果。报告主要分为两个部分，第一部分作者探究了分别使用Random Forest、SVM、MLP和CNN四种机器学习（深度学习）方法在MNIST数据集上对手写数字进行分类识别的实现与评估。第二部分中，作者基于Diffusion模型中的Ho等人提出的**DDPM**方法[[1]]，使用Peebles等人于2022年提出的**DiT**[[2]]作为骨干网络，借助MNIST数据集训练了一个Conditional Diffusion模型，实现可以通过输入数字来生成对应的手写数字（*这部分内容为作者正在参与的科研项目中的部分内容之一，为自主探索内容*）。</br>\n",
    "\n",
    "\n",
    "本篇报告的全部内容与源码作者已发布在GitHub个人仓库：\n",
    "\n",
    "[1]: https://arxiv.org/abs/2006.11239 \"Denoising Diffusion Probabilistic Models\"\n",
    "[2]: https://arxiv.org/abs/2212.09748 \"Scalable Diffusion Models with Transformers\""
   ]
  },
  {
   "cell_type": "markdown",
   "id": "b2638bca",
   "metadata": {},
   "source": [
    "## 2 MNIST数据集介绍\n",
    "\n",
    "MNIST是一个手写体数字的图片数据集，该数据集来由美国国家标准与技术研究所（National Institute of Standards and Technology (NIST)）发起整理，一共统计了来自250个不同的人手写数字图片，其中50%是高中生，50%来自人口普查局的工作人员。该数据集的收集目的是希望通过算法，实现对手写数字的识别。(本段介绍参考CSDN文章：[Mnist数据集简介](https://blog.csdn.net/tony_vip/article/details/118735261))\n",
    "\n",
    "图片来自维基百科：\n",
    "![image.png](img/MnistExamples.png)\n"
   ]
  },
  {
   "cell_type": "markdown",
   "id": "9eed86f6",
   "metadata": {},
   "source": [
    "## 3 MNIST手写数字数据集分类识别\n",
    "\n",
    "本节中，作者使用Random Forest, SVM, MLP和CNN四种方法对手写数字数据集进行分类识别，其中Random Forest和SVM方法使用`skit-learn`库进行实现，而MLP和CNN方法则使用Meta的`PyTorch`框架进行构造实现。"
   ]
  },
  {
   "cell_type": "markdown",
   "id": "1dd4ddb7",
   "metadata": {},
   "source": [
    "### 3.1 MNIST数字识别-SVM实现\n",
    "\n",
    "在本小节中，作者使用使用`sklearn`库中的`datasets`模块直接读取内置在工具包中的MNIST数据集，然后进行8:2的训练集-测试集划分。通过`SVM`模型拟合labels，最终在测试集上借助`metrics`模块中的`classification_report`和混淆矩阵`confusion_matrix`评估结果，同时可视化了部分测试的结果。\n",
    "\n",
    "从结果中可以看出SVM方法在随机划分的测试集上取得了**94%** 的准确率。"
   ]
  },
  {
   "cell_type": "code",
   "execution_count": 1,
   "id": "96f6a1cf",
   "metadata": {
    "ExecuteTime": {
     "end_time": "2024-04-30T12:46:46.330237Z",
     "start_time": "2024-04-30T12:46:46.138948Z"
    }
   },
   "outputs": [
    {
     "name": "stdout",
     "output_type": "stream",
     "text": [
      "Classification Report:\n",
      "              precision    recall  f1-score   support\n",
      "\n",
      "           0       1.00      0.97      0.99        35\n",
      "           1       0.97      1.00      0.99        36\n",
      "           2       1.00      1.00      1.00        35\n",
      "           3       0.96      0.73      0.83        37\n",
      "           4       0.97      0.92      0.94        37\n",
      "           5       0.93      1.00      0.96        37\n",
      "           6       1.00      1.00      1.00        37\n",
      "           7       0.92      0.97      0.95        36\n",
      "           8       0.78      0.94      0.85        33\n",
      "           9       0.92      0.89      0.90        37\n",
      "\n",
      "    accuracy                           0.94       360\n",
      "   macro avg       0.94      0.94      0.94       360\n",
      "weighted avg       0.95      0.94      0.94       360\n",
      "\n",
      "Confusion Matrix:\n",
      "[[34  0  0  0  1  0  0  0  0  0]\n",
      " [ 0 36  0  0  0  0  0  0  0  0]\n",
      " [ 0  0 35  0  0  0  0  0  0  0]\n",
      " [ 0  0  0 27  0  2  0  2  6  0]\n",
      " [ 0  0  0  0 34  0  0  0  1  2]\n",
      " [ 0  0  0  0  0 37  0  0  0  0]\n",
      " [ 0  0  0  0  0  0 37  0  0  0]\n",
      " [ 0  0  0  0  0  0  0 35  1  0]\n",
      " [ 0  1  0  0  0  0  0  0 31  1]\n",
      " [ 0  0  0  1  0  1  0  1  1 33]]\n"
     ]
    },
    {
     "data": {
      "image/png": "[encoded data removed]",
      "text/plain": [
       "<Figure size 1600x480 with 4 Axes>"
      ]
     },
     "metadata": {
      "needs_background": "light"
     },
     "output_type": "display_data"
    }
   ],
   "source": [
    "from sklearn import datasets, svm, metrics\n",
    "from sklearn.model_selection import train_test_split\n",
    "import matplotlib.pyplot as plt\n",
    "\n",
    "digits = datasets.load_digits()\n",
    "\n",
    "X = digits.images\n",
    "y = digits.target\n",
    "\n",
    "n_samples = len(X)\n",
    "X = X.reshape((n_samples, -1))\n",
    "\n",
    "X_train, X_test, y_train, y_test = train_test_split(X, y, test_size=0.2, shuffle=False)\n",
    "\n",
    "\n",
    "svm_model = svm.SVC()\n",
    "svm_model.fit(X_train, y_train)\n",
    "\n",
    "svm_predicted = svm_model.predict(X_test)\n",
    "\n",
    "#-----------------------验证阶段(直接写成函数方便后面RF复用)-----------------------#\n",
    "def test_report(predicted, visual=True):\n",
    "    print(\"Classification Report:\")\n",
    "    print(metrics.classification_report(y_test, predicted))\n",
    "\n",
    "    print(\"Confusion Matrix:\")\n",
    "    print(metrics.confusion_matrix(y_test, predicted))\n",
    "    \n",
    "    if visual:\n",
    "        _, axes = plt.subplots(nrows=1, ncols=4, figsize=(10, 3), dpi=160)\n",
    "        for ax, image, prediction in zip(axes, X_test, predicted):\n",
    "            ax.set_axis_off()\n",
    "            image = image.reshape(8, 8)\n",
    "            ax.imshow(image, cmap=plt.cm.gray_r, interpolation='nearest')\n",
    "            ax.set_title(f'Prediction: {prediction}')\n",
    "\n",
    "        plt.show()\n",
    "\n",
    "test_report(svm_predicted)"
   ]
  },
  {
   "cell_type": "markdown",
   "id": "74e48899",
   "metadata": {},
   "source": [
    "### 3.2 MNIST数字识别-Random Forest实现\n",
    "\n",
    "本小节中，作者更换骨干模型，使用随机森林作为分类器，数据和验证部分则复用上面SVM部分写好的代码。为了使报告简洁，作者在这一小节不再可视化最终的预测结果。\n",
    "\n",
    "经过测试发现，Random Forest在该数据集上的测试准确率为**92%** ，不如SVM方法。"
   ]
  },
  {
   "cell_type": "code",
   "execution_count": 3,
   "id": "973a5641",
   "metadata": {
    "ExecuteTime": {
     "end_time": "2024-04-30T12:47:34.945310Z",
     "start_time": "2024-04-30T12:47:34.689601Z"
    }
   },
   "outputs": [
    {
     "name": "stdout",
     "output_type": "stream",
     "text": [
      "Classification Report:\n",
      "              precision    recall  f1-score   support\n",
      "\n",
      "           0       0.97      0.97      0.97        35\n",
      "           1       0.94      0.89      0.91        36\n",
      "           2       1.00      0.97      0.99        35\n",
      "           3       0.96      0.73      0.83        37\n",
      "           4       0.92      0.92      0.92        37\n",
      "           5       0.86      0.97      0.91        37\n",
      "           6       1.00      0.97      0.99        37\n",
      "           7       0.86      1.00      0.92        36\n",
      "           8       0.85      0.85      0.85        33\n",
      "           9       0.87      0.92      0.89        37\n",
      "\n",
      "    accuracy                           0.92       360\n",
      "   macro avg       0.92      0.92      0.92       360\n",
      "weighted avg       0.92      0.92      0.92       360\n",
      "\n",
      "Confusion Matrix:\n",
      "[[34  0  0  0  1  0  0  0  0  0]\n",
      " [ 0 32  0  0  0  0  0  0  0  4]\n",
      " [ 1  0 34  0  0  0  0  0  0  0]\n",
      " [ 0  0  0 27  0  3  0  2  5  0]\n",
      " [ 0  0  0  0 34  0  0  3  0  0]\n",
      " [ 0  0  0  0  1 36  0  0  0  0]\n",
      " [ 0  1  0  0  0  0 36  0  0  0]\n",
      " [ 0  0  0  0  0  0  0 36  0  0]\n",
      " [ 0  1  0  0  1  1  0  1 28  1]\n",
      " [ 0  0  0  1  0  2  0  0  0 34]]\n"
     ]
    }
   ],
   "source": [
    "from sklearn.ensemble import RandomForestClassifier as RFC\n",
    "\n",
    "rfc_model = RFC()\n",
    "rfc_model.fit(X_train, y_train)\n",
    "\n",
    "rfc_predicted = rfc_model.predict(X_test)\n",
    "\n",
    "test_report(rfc_predicted, visual=False)"
   ]
  },
  {
   "cell_type": "markdown",
   "id": "dcad434c",
   "metadata": {},
   "source": [
    "### 3.3 MNIST数字识别-MLP实现\n",
    "\n",
    "在本小节中，作者使用多层感知机(MLP)来学习MNIST数据集上的手写数字识别。算法模型实现使用Meta开发的深度学习框架`PyTorch`，数据集选择torch自带的MNIST数据集，在进行归一化处理后转换为tensor输入给构建的MLP模型。作者同样将train和test部分集成为函数，方便下一小节中的CNN进行复用。\n",
    "\n",
    "在MLP模型构建中，作者构建了一个三层MLP网络，其每层的size分别为：$[784, 128, 64, 10]$，每两个线性层之间使用$\\text{ReLU}(x) = \\max(0, x)$作为激活函数进行非线性化，同时加入了参数为0.05的正则化(Dropout)。损失函数选择内置了softmax的交叉熵损失函数`nn.CrossEntropyLoss()`，优化器选择为随机梯度下降(Stochastic Gradient Descent)`optim.SGD()`，学习率设置为0.01，并且进行了batch size为64的批量化分，累积所有批次的损失，然后统一进行小批量梯度下降更新参数。\n",
    "\n",
    "训练使用[AutoDL服务器平台](https://www.autodl.com/)的NVIDIA RTX 3090显卡进行加速（CNN同样）。\n",
    "\n",
    "在10个epoch的训练后，最终在测试集上取得了**96.77%** 的准确率，相比SVM和RF，提升较大。"
   ]
  },
  {
   "cell_type": "code",
   "execution_count": 15,
   "id": "d1cf65cb",
   "metadata": {
    "ExecuteTime": {
     "end_time": "2024-04-30T13:25:45.980419Z",
     "start_time": "2024-04-30T13:25:45.920906Z"
    }
   },
   "outputs": [],
   "source": [
    "import torch\n",
    "import torch.nn as nn\n",
    "import torch.optim as optim\n",
    "from torchvision import datasets, transforms\n",
    "from torch.utils.data import DataLoader\n",
    "\n",
    "batch_size = 64\n",
    "device = 'cuda:0'\n",
    "\n",
    "transform = transforms.Compose([\n",
    "    transforms.ToTensor(),\n",
    "    transforms.Normalize((0.5,), (0.5,))\n",
    "])\n",
    "\n",
    "train_dataset = datasets.MNIST(root='../MINST_data/data', train=True, download=True, transform=transform)\n",
    "test_dataset = datasets.MNIST(root='../MINST_data/data', train=False, download=True, transform=transform)\n",
    "\n",
    "train_loader = DataLoader(dataset=train_dataset, batch_size=batch_size, shuffle=True)\n",
    "test_loader = DataLoader(dataset=test_dataset, batch_size=batch_size, shuffle=False)\n",
    "\n",
    "\n",
    "def train_model(model):\n",
    "    model.train()\n",
    "    for epoch in range(epochs):\n",
    "        for images, labels in train_loader:\n",
    "            images = images.view(-1, 28*28).to(device)\n",
    "            labels = labels.to(device)\n",
    "\n",
    "            outputs = model(images)\n",
    "            loss = criterion(outputs, labels)\n",
    "\n",
    "            optimizer.zero_grad()\n",
    "            loss.backward()\n",
    "            optimizer.step()\n",
    "\n",
    "        print(f'Epoch [{epoch+1}/{epochs}], Loss: {loss.item():.4f}')\n",
    "\n",
    "def test_model(model):\n",
    "    model.eval()\n",
    "    with torch.no_grad():\n",
    "        correct = 0\n",
    "        total = 0\n",
    "        for images, labels in test_loader:\n",
    "            images = images.view(-1, 28*28).to(device)\n",
    "            labels = labels.to(device)\n",
    "            outputs = model(images)\n",
    "            _, predicted = torch.max(outputs.data, 1)\n",
    "            total += labels.size(0)\n",
    "            correct += (predicted == labels).sum().item()\n",
    "\n",
    "    print(f'Accuracy of the model on the test images: {100 * correct / total:.2f}%')"
   ]
  },
  {
   "cell_type": "code",
   "execution_count": 16,
   "id": "979cc2e6",
   "metadata": {
    "ExecuteTime": {
     "end_time": "2024-04-30T13:29:05.783353Z",
     "start_time": "2024-04-30T13:27:48.477618Z"
    }
   },
   "outputs": [
    {
     "name": "stdout",
     "output_type": "stream",
     "text": [
      "Epoch [1/20], Loss: 0.3099\n",
      "Epoch [2/20], Loss: 0.3154\n",
      "Epoch [3/20], Loss: 0.2290\n",
      "Epoch [4/20], Loss: 0.1616\n",
      "Epoch [5/20], Loss: 0.2464\n",
      "Epoch [6/20], Loss: 0.3810\n",
      "Epoch [7/20], Loss: 0.1645\n",
      "Epoch [8/20], Loss: 0.1605\n",
      "Epoch [9/20], Loss: 0.4279\n",
      "Epoch [10/20], Loss: 0.0898\n",
      "Epoch [11/20], Loss: 0.0459\n",
      "Epoch [12/20], Loss: 0.1424\n",
      "Epoch [13/20], Loss: 0.0492\n",
      "Epoch [14/20], Loss: 0.1140\n",
      "Epoch [15/20], Loss: 0.0997\n",
      "Epoch [16/20], Loss: 0.1085\n",
      "Epoch [17/20], Loss: 0.0438\n",
      "Epoch [18/20], Loss: 0.0232\n",
      "Epoch [19/20], Loss: 0.3076\n",
      "Epoch [20/20], Loss: 0.0610\n",
      "Accuracy of the model on the test images: 96.77%\n"
     ]
    }
   ],
   "source": [
    "class MLP(nn.Module):\n",
    "    def __init__(self,input_size, hidden_sizes, output_size, dropout=0.05):\n",
    "        super(MLP, self).__init__()\n",
    "        self.layers = nn.Sequential(\n",
    "            nn.Linear(input_size, hidden_sizes[0]),\n",
    "            nn.ReLU(),\n",
    "            nn.Linear(hidden_sizes[0], hidden_sizes[1]),\n",
    "            nn.Dropout(dropout),\n",
    "            nn.ReLU(),\n",
    "            nn.Linear(hidden_sizes[1], output_size)\n",
    "        )\n",
    "\n",
    "    def forward(self, x):\n",
    "        return self.layers(x)\n",
    "\n",
    "input_size = 784\n",
    "hidden_sizes = [128, 64]\n",
    "output_size = 10\n",
    "batch_size = 64\n",
    "learning_rate = 0.01\n",
    "epochs = 20\n",
    "\n",
    "mlp_model = MLP(input_size=input_size,\n",
    "               hidden_sizes=hidden_sizes,\n",
    "               output_size=output_size).to(device)\n",
    "criterion = nn.CrossEntropyLoss()\n",
    "optimizer = optim.SGD(mlp_model.parameters(), lr=learning_rate)\n",
    "\n",
    "train_model(mlp_model)\n",
    "test_model(mlp_model)"
   ]
  },
  {
   "cell_type": "markdown",
   "id": "5ee1be34",
   "metadata": {},
   "source": [
    "### 3.4 MNIST数字识别-CNN实现\n",
    "\n",
    "在本节中，作者使用在CV领域中常用的深度学习方法卷积神经网络(Convolutional Neural Network, CNN)来进行手写数字数据集的识别分类。CNN中最为重要的就是卷积层，卷积层由可学习的卷积核组成，主要意义在于可以通过可学习的方式来自动实现对图片的特征提取，从而取代了传统机器学习研究中由领域专家进行人工手动特征工程的操作。1998年，Yan LeCun 等人发表了论文“Gradient-Based Learning Applied to Document Recognition”[[3]](https://ieeexplore.ieee.org/document/726791)，首次提出了基于卷积操作的LeNet-5网络，让人们得知了CNN网络的强大，而他们实验的数据集也正是MNIST。\n",
    "\n",
    "在本篇报告中，作者不再具体阐述CNN的具体工作原理，在GitHub仓库下，作者已将之前在其他课程作业中完成的**卷积神经网络结构与应用介绍**存放在`doc/卷积神经网络结构与应用介绍.pdf`中[<打开>](doc/卷积神经网络结构与应用介绍.pdf)，其中还介绍了作者使用PyTorch基于ResNet101迁移学习的情绪图片识别的项目案例。\n",
    "\n",
    "多通道卷积操作动图来自[Animated AI](https://animatedai.github.io/):\n",
    "![img.gif](img/cnn.gif)"
   ]
  },
  {
   "cell_type": "markdown",
   "id": "78c86eef",
   "metadata": {},
   "source": [
    "在具体实现中，作者使用两层卷积核shape为$5 \\times 5$的卷积层，填充(Padding)为2，步长(Stride)为1，中间使用最大池化层(Max Pooling)，然后经过一个两个线性层输出结果。优化方面依旧选择交叉熵损失函数，SGD优化器，学习率为0.01，复用train和test函数。\n",
    "\n",
    "同样在训练了20个epoch后，最终在测试集上得到了**98.86%** 的准确率，远超RF、SVM和MLP三个算法，可见CNN模型的强大。"
   ]
  },
  {
   "cell_type": "code",
   "execution_count": 11,
   "id": "77fa9dcc",
   "metadata": {
    "ExecuteTime": {
     "end_time": "2024-04-30T14:31:54.728955Z",
     "start_time": "2024-04-30T14:30:05.008495Z"
    }
   },
   "outputs": [
    {
     "name": "stdout",
     "output_type": "stream",
     "text": [
      "Epoch [1/20], Loss: 0.1095\n",
      "Epoch [2/20], Loss: 0.0918\n",
      "Epoch [3/20], Loss: 0.0300\n",
      "Epoch [4/20], Loss: 0.0579\n",
      "Epoch [5/20], Loss: 0.0217\n",
      "Epoch [6/20], Loss: 0.0075\n",
      "Epoch [7/20], Loss: 0.0304\n",
      "Epoch [8/20], Loss: 0.0088\n",
      "Epoch [9/20], Loss: 0.0478\n",
      "Epoch [10/20], Loss: 0.0094\n",
      "Epoch [11/20], Loss: 0.0045\n",
      "Epoch [12/20], Loss: 0.0122\n",
      "Epoch [13/20], Loss: 0.0040\n",
      "Epoch [14/20], Loss: 0.0476\n",
      "Epoch [15/20], Loss: 0.1753\n",
      "Epoch [16/20], Loss: 0.0298\n",
      "Epoch [17/20], Loss: 0.0034\n",
      "Epoch [18/20], Loss: 0.0101\n",
      "Epoch [19/20], Loss: 0.0418\n",
      "Epoch [20/20], Loss: 0.0367\n",
      "Accuracy of the model on the test images: 98.86%\n"
     ]
    }
   ],
   "source": [
    "device = 'cuda:0'\n",
    "\n",
    "class CNN(nn.Module):\n",
    "    def __init__(self):\n",
    "        super(CNN, self).__init__()\n",
    "        self.conv_layer = nn.Sequential(\n",
    "            nn.Conv2d(1, 32, kernel_size=5, stride=1, padding=2),\n",
    "            nn.ReLU(),\n",
    "            nn.MaxPool2d(kernel_size=2, stride=2), \n",
    "            nn.Conv2d(32, 64, kernel_size=5, stride=1, padding=2),\n",
    "            nn.ReLU(),\n",
    "            nn.MaxPool2d(kernel_size=2, stride=2)\n",
    "        )\n",
    "        self.fc_layer = nn.Sequential(\n",
    "            nn.Linear(64 * 7 * 7, 1000),\n",
    "            nn.ReLU(),\n",
    "            nn.Dropout(0.05),\n",
    "            nn.Linear(1000, 10)\n",
    "        )\n",
    "\n",
    "    def forward(self, x):\n",
    "        x = self.conv_layer(x)\n",
    "        x = x.view(x.size(0), -1) \n",
    "        x = self.fc_layer(x)\n",
    "        return x\n",
    "\n",
    "cnn_model = CNN().to(device)\n",
    "criterion = nn.CrossEntropyLoss()\n",
    "optimizer = optim.SGD(cnn_model.parameters(), lr=0.01)\n",
    "\n",
    "def train_model(model):\n",
    "    model.train()\n",
    "    for epoch in range(20):\n",
    "        for images, labels in train_loader:\n",
    "            images = images.to(device)\n",
    "            labels = labels.to(device)\n",
    "\n",
    "            outputs = model(images)\n",
    "            loss = criterion(outputs, labels)\n",
    "\n",
    "            optimizer.zero_grad()\n",
    "            loss.backward()\n",
    "            optimizer.step()\n",
    "\n",
    "        print(f'Epoch [{epoch+1}/20], Loss: {loss.item():.4f}')\n",
    "\n",
    "def test_model(model):\n",
    "    model.eval()\n",
    "    with torch.no_grad():\n",
    "        correct = 0\n",
    "        total = 0\n",
    "        for images, labels in test_loader:\n",
    "            images = images.to(device)\n",
    "            labels = labels.to(device)\n",
    "            outputs = model(images)\n",
    "            _, predicted = torch.max(outputs.data, 1)\n",
    "            total += labels.size(0)\n",
    "            correct += (predicted == labels).sum().item()\n",
    "\n",
    "    print(f'Accuracy of the model on the test images: {100 * correct / total:.2f}%')\n",
    "\n",
    "train_model(cnn_model)\n",
    "test_model(cnn_model)"
   ]
  },
  {
   "cell_type": "code",
   "execution_count": null,
   "id": "d0171334-fb9c-433f-a1b3-8f701126ae5f",
   "metadata": {},
   "outputs": [],
   "source": []
  }
 ],
 "metadata": {
  "kernelspec": {
   "display_name": "Python 3 (ipykernel)",
   "language": "python",
   "name": "python3"
  },
  "language_info": {
   "codemirror_mode": {
    "name": "ipython",
    "version": 3
   },
   "file_extension": ".py",
   "mimetype": "text/x-python",
   "name": "python",
   "nbconvert_exporter": "python",
   "pygments_lexer": "ipython3",
   "version": "3.8.10"
  },
  "toc": {
   "base_numbering": 1,
   "nav_menu": {},
   "number_sections": true,
   "sideBar": true,
   "skip_h1_title": false,
   "title_cell": "Table of Contents",
   "title_sidebar": "Contents",
   "toc_cell": false,
   "toc_position": {},
   "toc_section_display": true,
   "toc_window_display": false
  },
  "varInspector": {
   "cols": {
    "lenName": 16,
    "lenType": 16,
    "lenVar": 40
   },
   "kernels_config": {
    "python": {
     "delete_cmd_postfix": "",
     "delete_cmd_prefix": "del ",
     "library": "var_list.py",
     "varRefreshCmd": "print(var_dic_list())"
    },
    "r": {
     "delete_cmd_postfix": ") ",
     "delete_cmd_prefix": "rm(",
     "library": "var_list.r",
     "varRefreshCmd": "cat(var_dic_list()) "
    }
   },
   "types_to_exclude": [
    "module",
    "function",
    "builtin_function_or_method",
    "instance",
    "_Feature"
   ],
   "window_display": false
  }
 },
 "nbformat": 4,
 "nbformat_minor": 5
}
